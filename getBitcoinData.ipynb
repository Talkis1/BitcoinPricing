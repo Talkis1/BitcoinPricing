{
 "cells": [
  {
   "cell_type": "code",
   "execution_count": 2,
   "metadata": {},
   "outputs": [
    {
     "name": "stdout",
     "output_type": "stream",
     "text": [
      "{'data': {'BTC': {'circulating_supply': 19680925,\n",
      "                  'cmc_rank': 1,\n",
      "                  'date_added': '2010-07-13T00:00:00.000Z',\n",
      "                  'id': 1,\n",
      "                  'infinite_supply': False,\n",
      "                  'is_active': 1,\n",
      "                  'is_fiat': 0,\n",
      "                  'last_updated': '2024-04-13T02:54:00.000Z',\n",
      "                  'max_supply': 21000000,\n",
      "                  'name': 'Bitcoin',\n",
      "                  'num_market_pairs': 10988,\n",
      "                  'platform': None,\n",
      "                  'quote': {'USD': {'fully_diluted_market_cap': 1396609446385.84,\n",
      "                                    'last_updated': '2024-04-13T02:54:00.000Z',\n",
      "                                    'market_cap': 1308884084219.5825,\n",
      "                                    'market_cap_dominance': 54.1997,\n",
      "                                    'percent_change_1h': 0.67234556,\n",
      "                                    'percent_change_24h': -5.95310909,\n",
      "                                    'percent_change_30d': -8.89820552,\n",
      "                                    'percent_change_60d': 33.1278769,\n",
      "                                    'percent_change_7d': -1.62167685,\n",
      "                                    'percent_change_90d': 55.38524625,\n",
      "                                    'price': 66505.21173265904,\n",
      "                                    'tvl': None,\n",
      "                                    'volume_24h': 46736685014.29025,\n",
      "                                    'volume_change_24h': 58.9618}},\n",
      "                  'self_reported_circulating_supply': None,\n",
      "                  'self_reported_market_cap': None,\n",
      "                  'slug': 'bitcoin',\n",
      "                  'symbol': 'BTC',\n",
      "                  'tags': ['mineable',\n",
      "                           'pow',\n",
      "                           'sha-256',\n",
      "                           'store-of-value',\n",
      "                           'state-channel',\n",
      "                           'coinbase-ventures-portfolio',\n",
      "                           'three-arrows-capital-portfolio',\n",
      "                           'polychain-capital-portfolio',\n",
      "                           'binance-labs-portfolio',\n",
      "                           'blockchain-capital-portfolio',\n",
      "                           'boostvc-portfolio',\n",
      "                           'cms-holdings-portfolio',\n",
      "                           'dcg-portfolio',\n",
      "                           'dragonfly-capital-portfolio',\n",
      "                           'electric-capital-portfolio',\n",
      "                           'fabric-ventures-portfolio',\n",
      "                           'framework-ventures-portfolio',\n",
      "                           'galaxy-digital-portfolio',\n",
      "                           'huobi-capital-portfolio',\n",
      "                           'alameda-research-portfolio',\n",
      "                           'a16z-portfolio',\n",
      "                           '1confirmation-portfolio',\n",
      "                           'winklevoss-capital-portfolio',\n",
      "                           'usv-portfolio',\n",
      "                           'placeholder-ventures-portfolio',\n",
      "                           'pantera-capital-portfolio',\n",
      "                           'multicoin-capital-portfolio',\n",
      "                           'paradigm-portfolio',\n",
      "                           'bitcoin-ecosystem',\n",
      "                           'ftx-bankruptcy-estate'],\n",
      "                  'total_supply': 19680925,\n",
      "                  'tvl_ratio': None}},\n",
      " 'status': {'credit_count': 1,\n",
      "            'elapsed': 29,\n",
      "            'error_code': 0,\n",
      "            'error_message': None,\n",
      "            'notice': None,\n",
      "            'timestamp': '2024-04-13T02:55:26.530Z'}}\n",
      "The current price of Bitcoin is: 66505.21173265904\n"
     ]
    }
   ],
   "source": [
    "from BitcoinData import *\n",
    "apiKey = 'b1ab10c3-8652-47d7-8e78-b1e855ae' \n",
    "GetBitcoinData().coinMarketApiCall()\n",
    "\n",
    "\n"
   ]
  }
 ],
 "metadata": {
  "kernelspec": {
   "display_name": "Python 3",
   "language": "python",
   "name": "python3"
  },
  "language_info": {
   "codemirror_mode": {
    "name": "ipython",
    "version": 3
   },
   "file_extension": ".py",
   "mimetype": "text/x-python",
   "name": "python",
   "nbconvert_exporter": "python",
   "pygments_lexer": "ipython3",
   "version": "3.11.2"
  }
 },
 "nbformat": 4,
 "nbformat_minor": 2
}
